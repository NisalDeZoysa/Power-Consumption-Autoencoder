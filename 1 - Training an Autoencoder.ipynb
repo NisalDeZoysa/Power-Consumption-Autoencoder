{
 "cells": [
  {
   "cell_type": "code",
   "execution_count": 1,
   "metadata": {},
   "outputs": [],
   "source": [
    "import numpy as np\n",
    "\n",
    "data=np.load('data.npy')\n",
    "target=np.load('target.npy')"
   ]
  },
  {
   "cell_type": "code",
   "execution_count": 5,
   "metadata": {},
   "outputs": [],
   "source": [
    "from sklearn.preprocessing import MinMaxScaler\n",
    "import numpy as np\n",
    "\n",
    "# Assuming 'data' and 'target' are 1D arrays\n",
    "data = np.array(data).reshape(-1, 1)\n",
    "target = np.array(target).reshape(-1, 1)\n",
    "\n",
    "data_scaler = MinMaxScaler(feature_range=(0, 1))\n",
    "scaled_data = data_scaler.fit_transform(data)\n",
    "\n",
    "target_scaler = MinMaxScaler(feature_range=(0, 1))\n",
    "scaled_target = target_scaler.fit_transform(target)\n"
   ]
  },
  {
   "cell_type": "code",
   "execution_count": 6,
   "metadata": {},
   "outputs": [
    {
     "data": {
      "text/plain": [
       "['target_scaler.sav']"
      ]
     },
     "execution_count": 6,
     "metadata": {},
     "output_type": "execute_result"
    }
   ],
   "source": [
    "import joblib\n",
    "\n",
    "joblib.dump(data_scaler,'data_scaler.sav')\n",
    "joblib.dump(target_scaler,'target_scaler.sav')"
   ]
  },
  {
   "cell_type": "code",
   "execution_count": 7,
   "metadata": {},
   "outputs": [],
   "source": [
    "scaled_data=scaled_data.reshape(scaled_data.shape[0],scaled_data.shape[1],1)\n",
    "scaled_target=scaled_target.reshape(scaled_target.shape[0],scaled_target.shape[1],1)"
   ]
  },
  {
   "cell_type": "code",
   "execution_count": 8,
   "metadata": {},
   "outputs": [],
   "source": [
    "from sklearn.model_selection import train_test_split\n",
    "train_data,test_data,train_target,test_target=train_test_split(scaled_data,scaled_target,test_size=0.2)"
   ]
  },
  {
   "cell_type": "code",
   "execution_count": 9,
   "metadata": {},
   "outputs": [],
   "source": [
    "from keras.layers import Input,Dense,Conv1D,MaxPool1D,UpSampling1D\n",
    "from keras.models import Model\n",
    "from keras.callbacks import ModelCheckpoint\n",
    "\n",
    "\n",
    "input_layer=Input(shape=scaled_data.shape[1:])  \n",
    "\n",
    "model=Conv1D(32,(3),activation='relu',padding='same')(input_layer)\n",
    "model=MaxPool1D((2),padding='same')(model)\n",
    "model=Conv1D(32,(3),activation='relu',padding='same')(model)\n",
    "encoder=MaxPool1D((2),padding='same')(model)\n",
    "\n",
    "model=Conv1D(32,(3),activation='relu',padding='same')(encoder)\n",
    "model=UpSampling1D((2))(model) \n",
    "model=Conv1D(32,(3),activation='relu',padding='same')(model)\n",
    "model=UpSampling1D((2))(model) \n",
    "\n",
    "decoder=Conv1D(1,(3),activation='relu',padding='same')(model)\n",
    "\n",
    "autoencoder=Model(input_layer,decoder)\n",
    "\n",
    "autoencoder.compile(optimizer='adam',loss='mse')"
   ]
  },
  {
   "cell_type": "code",
   "execution_count": 12,
   "metadata": {},
   "outputs": [
    {
     "name": "stdout",
     "output_type": "stream",
     "text": [
      "Epoch 1/10\n",
      "\u001b[1m8545/8545\u001b[0m \u001b[32m━━━━━━━━━━━━━━━━━━━━\u001b[0m\u001b[37m\u001b[0m \u001b[1m21s\u001b[0m 2ms/step - loss: 0.0057 - val_loss: 0.0057\n",
      "Epoch 2/10\n",
      "\u001b[1m8545/8545\u001b[0m \u001b[32m━━━━━━━━━━━━━━━━━━━━\u001b[0m\u001b[37m\u001b[0m \u001b[1m48s\u001b[0m 6ms/step - loss: 0.0056 - val_loss: 0.0057\n",
      "Epoch 3/10\n",
      "\u001b[1m8545/8545\u001b[0m \u001b[32m━━━━━━━━━━━━━━━━━━━━\u001b[0m\u001b[37m\u001b[0m \u001b[1m54s\u001b[0m 2ms/step - loss: 0.0056 - val_loss: 0.0057\n",
      "Epoch 4/10\n",
      "\u001b[1m8545/8545\u001b[0m \u001b[32m━━━━━━━━━━━━━━━━━━━━\u001b[0m\u001b[37m\u001b[0m \u001b[1m20s\u001b[0m 2ms/step - loss: 0.0056 - val_loss: 0.0057\n",
      "Epoch 5/10\n",
      "\u001b[1m8545/8545\u001b[0m \u001b[32m━━━━━━━━━━━━━━━━━━━━\u001b[0m\u001b[37m\u001b[0m \u001b[1m20s\u001b[0m 2ms/step - loss: 0.0056 - val_loss: 0.0057\n",
      "Epoch 6/10\n",
      "\u001b[1m8545/8545\u001b[0m \u001b[32m━━━━━━━━━━━━━━━━━━━━\u001b[0m\u001b[37m\u001b[0m \u001b[1m86s\u001b[0m 10ms/step - loss: 0.0056 - val_loss: 0.0057\n",
      "Epoch 7/10\n",
      "\u001b[1m8545/8545\u001b[0m \u001b[32m━━━━━━━━━━━━━━━━━━━━\u001b[0m\u001b[37m\u001b[0m \u001b[1m101s\u001b[0m 5ms/step - loss: 0.0057 - val_loss: 0.0057\n",
      "Epoch 8/10\n",
      "\u001b[1m8545/8545\u001b[0m \u001b[32m━━━━━━━━━━━━━━━━━━━━\u001b[0m\u001b[37m\u001b[0m \u001b[1m110s\u001b[0m 8ms/step - loss: 0.0056 - val_loss: 0.0057\n",
      "Epoch 9/10\n",
      "\u001b[1m8545/8545\u001b[0m \u001b[32m━━━━━━━━━━━━━━━━━━━━\u001b[0m\u001b[37m\u001b[0m \u001b[1m70s\u001b[0m 7ms/step - loss: 0.0057 - val_loss: 0.0057\n",
      "Epoch 10/10\n",
      "\u001b[1m8545/8545\u001b[0m \u001b[32m━━━━━━━━━━━━━━━━━━━━\u001b[0m\u001b[37m\u001b[0m \u001b[1m75s\u001b[0m 9ms/step - loss: 0.0057 - val_loss: 0.0057\n"
     ]
    },
    {
     "data": {
      "text/plain": [
       "<keras.src.callbacks.history.History at 0x1f6f0decf20>"
      ]
     },
     "execution_count": 12,
     "metadata": {},
     "output_type": "execute_result"
    }
   ],
   "source": [
    "from keras.callbacks import ModelCheckpoint\n",
    "\n",
    "checkpoint = ModelCheckpoint('models/model-{epoch:03d}.keras', monitor='val_loss', verbose=0, save_best_only=True, mode='auto')\n",
    "autoencoder.fit(train_data, train_target, epochs=10, validation_data=(test_data, test_target), callbacks=[checkpoint])\n"
   ]
  },
  {
   "cell_type": "code",
   "execution_count": 13,
   "metadata": {},
   "outputs": [],
   "source": [
    "np.save('test_data',test_data)\n",
    "np.save('test_target',test_target)"
   ]
  },
  {
   "cell_type": "code",
   "execution_count": null,
   "metadata": {},
   "outputs": [],
   "source": []
  }
 ],
 "metadata": {
  "kernelspec": {
   "display_name": "Python 3",
   "language": "python",
   "name": "python3"
  },
  "language_info": {
   "codemirror_mode": {
    "name": "ipython",
    "version": 3
   },
   "file_extension": ".py",
   "mimetype": "text/x-python",
   "name": "python",
   "nbconvert_exporter": "python",
   "pygments_lexer": "ipython3",
   "version": "3.12.1"
  }
 },
 "nbformat": 4,
 "nbformat_minor": 4
}
