{
 "cells": [
  {
   "cell_type": "code",
   "execution_count": 19,
   "metadata": {},
   "outputs": [],
   "source": [
    "import numpy as np\n",
    "\n",
    "test_data=np.load('test_data.npy')\n",
    "test_target=np.load('test_target.npy')"
   ]
  },
  {
   "cell_type": "code",
   "execution_count": 20,
   "metadata": {},
   "outputs": [],
   "source": [
    "import joblib\n",
    "\n",
    "data_scaler=joblib.load('data_scaler.sav')\n",
    "target_scaler=joblib.load('target_scaler.sav')"
   ]
  },
  {
   "cell_type": "code",
   "execution_count": 21,
   "metadata": {},
   "outputs": [],
   "source": [
    "from keras.models import load_model\n",
    "\n",
    "model=load_model('models/model-100.model')"
   ]
  },
  {
   "cell_type": "code",
   "execution_count": 22,
   "metadata": {},
   "outputs": [],
   "source": [
    "predicted_target=model.predict(test_data)"
   ]
  },
  {
   "cell_type": "code",
   "execution_count": 23,
   "metadata": {},
   "outputs": [],
   "source": [
    "test_data=test_data.reshape(test_data.shape[0],test_data.shape[1])\n",
    "test_target=test_target.reshape(test_target.shape[0],test_target.shape[1])\n",
    "predicted_target=predicted_target.reshape(predicted_target.shape[0],predicted_target.shape[1])\n",
    "\n",
    "scaled_test_data=data_scaler.inverse_transform(test_data)\n",
    "scaled_test_target=target_scaler.inverse_transform(test_target)\n",
    "predicted_target=target_scaler.inverse_transform(predicted_target)"
   ]
  },
  {
   "cell_type": "code",
   "execution_count": 25,
   "metadata": {},
   "outputs": [],
   "source": [
    "from matplotlib import pyplot as plt\n",
    "\n",
    "for i in range(len(test_target)):\n",
    "    \n",
    "    #plt.plot(scaled_test_data[i][:500],label='main signal')\n",
    "    plt.plot(scaled_test_target[i][:500],label='fridge actual signal')\n",
    "    plt.plot(predicted_target[i][:500],label='fridge predicted signal')\n",
    "    plt.legend()\n",
    "    plt.xlabel('time(s)')\n",
    "    plt.ylabel('power(Kwh)')\n",
    "    plt.savefig('results/window-'+str(i)+'.png')\n",
    "    plt.close()"
   ]
  },
  {
   "cell_type": "code",
   "execution_count": null,
   "metadata": {},
   "outputs": [],
   "source": []
  }
 ],
 "metadata": {
  "kernelspec": {
   "display_name": "Python 3",
   "language": "python",
   "name": "python3"
  },
  "language_info": {
   "codemirror_mode": {
    "name": "ipython",
    "version": 3
   },
   "file_extension": ".py",
   "mimetype": "text/x-python",
   "name": "python",
   "nbconvert_exporter": "python",
   "pygments_lexer": "ipython3",
   "version": "3.8.5"
  }
 },
 "nbformat": 4,
 "nbformat_minor": 4
}
